{
  "nbformat": 4,
  "nbformat_minor": 0,
  "metadata": {
    "colab": {
      "name": "Monte Carlos class task.ipynb",
      "provenance": [],
      "collapsed_sections": []
    },
    "kernelspec": {
      "name": "python3",
      "display_name": "Python 3"
    }
  },
  "cells": [
    {
      "cell_type": "code",
      "metadata": {
        "id": "rmOSfryRT-mz"
      },
      "source": [
        "import random\n",
        "import math\n",
        "import matplotlib.pyplot as plt  "
      ],
      "execution_count": null,
      "outputs": []
    },
    {
      "cell_type": "code",
      "metadata": {
        "id": "e0QjsRTLUosP",
        "colab": {
          "base_uri": "https://localhost:8080/",
          "height": 448
        },
        "outputId": "6ef0fe45-2880-4957-d050-d64684da7ae4"
      },
      "source": [
        "n=[100,1000,10000,100000]\n",
        "PI_list=[]\n",
        "hit=[]\n",
        "miss=[]\n",
        "hits=0\n",
        "for j in n:\n",
        "  print(\"Trials:\", j)\n",
        "  for i in range(j):\n",
        "    x= random.uniform(0,1)\n",
        "    y=random.uniform(0,1)\n",
        "    if math.sqrt(x**2+y**2)<=1:\n",
        "      hits=hits+1\n",
        " \n",
        "  PI=4 *(hits/j)\n",
        "  PI_list.append(PI)\n",
        "  print(\"Value of PI\",PI)\n",
        "\n",
        "\n",
        "plt.scatter(n, PI_list,color=\"red\")\n",
        "\n",
        "plt.yticks([2,2.3,2.6,2.9,3.1,3.4,3.7,4])\n",
        "plt.xlabel('Trials')\n",
        "plt.ylabel('Value')\n",
        "plt.legend()\n",
        "plt.show()"
      ],
      "execution_count": null,
      "outputs": [
        {
          "output_type": "stream",
          "text": [
            "No handles with labels found to put in legend.\n"
          ],
          "name": "stderr"
        },
        {
          "output_type": "stream",
          "text": [
            "Trials: 100\n",
            "Value of PI 3.2\n",
            "Trials: 1000\n",
            "Value of PI 3.528\n",
            "Trials: 10000\n",
            "Value of PI 3.4924\n",
            "Trials: 100000\n",
            "Value of PI 3.4888\n"
          ],
          "name": "stdout"
        },
        {
          "output_type": "display_data",
          "data": {
            "image/png": "[encoded data removed]",
            "text/plain": [
              "<Figure size 432x288 with 1 Axes>"
            ]
          },
          "metadata": {
            "tags": [],
            "needs_background": "light"
          }
        }
      ]
    }
  ]
}